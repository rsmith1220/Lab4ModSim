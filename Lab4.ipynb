{
 "cells": [
  {
   "cell_type": "code",
   "execution_count": 1,
   "metadata": {},
   "outputs": [
    {
     "name": "stdout",
     "output_type": "stream",
     "text": [
      "Probabilidad simulada de ser mujer y usar lentes: 0.120203\n",
      "Probabilidad simulada de ser varón y no usar lentes: 0.41989\n"
     ]
    }
   ],
   "source": [
    "import random\n",
    "\n",
    "# Definir las probabilidades de género y uso de lentes\n",
    "probabilidad_mujer = 400000 / 1000000\n",
    "probabilidad_lentes = 300000 / 1000000\n",
    "probabilidad_varon_lentes = 150000 / 1000000\n",
    "\n",
    "# Calcular la probabilidad de ser mujer y usar lentes\n",
    "probabilidad_mujer_lentes = probabilidad_mujer * probabilidad_lentes\n",
    "\n",
    "# Calcular la probabilidad de ser varón y no usar lentes\n",
    "probabilidad_varon_no_lentes = (1 - probabilidad_mujer) * (1 - probabilidad_lentes)\n",
    "\n",
    "# Número de simulaciones\n",
    "num_simulaciones = 1000000\n",
    "\n",
    "# Inicializar contadores\n",
    "contador_mujer_lentes = 0\n",
    "contador_varon_no_lentes = 0\n",
    "\n",
    "# Realizar simulaciones\n",
    "for _ in range(num_simulaciones):\n",
    "    # Generar una variable aleatoria para el género\n",
    "    genero = \"Mujer\" if random.random() < probabilidad_mujer else \"Varon\"\n",
    "    \n",
    "    # Generar una variable aleatoria para el uso de lentes\n",
    "    usa_lentes = random.random() < probabilidad_lentes\n",
    "    \n",
    "    # Calcular la probabilidad de ser mujer y usar lentes\n",
    "    if genero == \"Mujer\" and usa_lentes:\n",
    "        contador_mujer_lentes += 1\n",
    "    \n",
    "    # Calcular la probabilidad de ser varón y no usar lentes\n",
    "    if genero == \"Varon\" and not usa_lentes:\n",
    "        contador_varon_no_lentes += 1\n",
    "\n",
    "# Calcular las probabilidades simuladas\n",
    "probabilidad_simulada_mujer_lentes = contador_mujer_lentes / num_simulaciones\n",
    "probabilidad_simulada_varon_no_lentes = contador_varon_no_lentes / num_simulaciones\n",
    "\n",
    "# Imprimir resultados\n",
    "print(\"Probabilidad simulada de ser mujer y usar lentes:\", probabilidad_simulada_mujer_lentes)\n",
    "print(\"Probabilidad simulada de ser varón y no usar lentes:\", probabilidad_simulada_varon_no_lentes)\n"
   ]
  }
 ],
 "metadata": {
  "kernelspec": {
   "display_name": "Python 3",
   "language": "python",
   "name": "python3"
  },
  "language_info": {
   "codemirror_mode": {
    "name": "ipython",
    "version": 3
   },
   "file_extension": ".py",
   "mimetype": "text/x-python",
   "name": "python",
   "nbconvert_exporter": "python",
   "pygments_lexer": "ipython3",
   "version": "3.11.5"
  },
  "orig_nbformat": 4
 },
 "nbformat": 4,
 "nbformat_minor": 2
}
